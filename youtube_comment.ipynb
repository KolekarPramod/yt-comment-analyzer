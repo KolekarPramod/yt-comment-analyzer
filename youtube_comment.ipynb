{
  "nbformat": 4,
  "nbformat_minor": 0,
  "metadata": {
    "colab": {
      "private_outputs": true,
      "provenance": [],
      "authorship_tag": "ABX9TyNkdCKGDx1DupSuHnge7P1x",
      "include_colab_link": true
    },
    "kernelspec": {
      "name": "python3",
      "display_name": "Python 3"
    },
    "language_info": {
      "name": "python"
    }
  },
  "cells": [
    {
      "cell_type": "markdown",
      "metadata": {
        "id": "view-in-github",
        "colab_type": "text"
      },
      "source": [
        "<a href=\"https://colab.research.google.com/github/KolekarPramod/yt-comment-analyzer/blob/main/youtube_comment.ipynb\" target=\"_parent\"><img src=\"https://colab.research.google.com/assets/colab-badge.svg\" alt=\"Open In Colab\"/></a>"
      ]
    },
    {
      "cell_type": "code",
      "execution_count": null,
      "metadata": {
        "id": "QoBrzsxmfE-M"
      },
      "outputs": [],
      "source": [
        "import pandas as pd"
      ]
    },
    {
      "cell_type": "code",
      "source": [
        "url='https://drive.google.com/file/d/11LshAdwS4zPMNExup0_aAlfVPnaCLyEF/view?usp=sharing'\n",
        "url='https://drive.google.com/uc?id=' + url.split('/')[-2]\n",
        "df = pd.read_csv(url)"
      ],
      "metadata": {
        "id": "jtRLtyrGfRmH"
      },
      "execution_count": null,
      "outputs": []
    },
    {
      "cell_type": "code",
      "source": [
        "df.info()"
      ],
      "metadata": {
        "id": "deBmJ_1NfXXY"
      },
      "execution_count": null,
      "outputs": []
    },
    {
      "cell_type": "code",
      "source": [
        "pd.set_option('max_colwidth',None)"
      ],
      "metadata": {
        "id": "LiIUMf3cfg8i"
      },
      "execution_count": null,
      "outputs": []
    },
    {
      "cell_type": "code",
      "source": [
        "df"
      ],
      "metadata": {
        "id": "l1uIbW2uf0j2"
      },
      "execution_count": null,
      "outputs": []
    },
    {
      "cell_type": "code",
      "source": [
        "df[df['clean_comment'].isna()]"
      ],
      "metadata": {
        "id": "PMncRaN2f0_t"
      },
      "execution_count": null,
      "outputs": []
    },
    {
      "cell_type": "code",
      "source": [
        "df[df['clean_comment'].isna()]['category'].value_counts()"
      ],
      "metadata": {
        "id": "aUntpjnmhgzj"
      },
      "execution_count": null,
      "outputs": []
    },
    {
      "cell_type": "code",
      "source": [
        "df.dropna(inplace=True)"
      ],
      "metadata": {
        "id": "FWi3EFzghmQa"
      },
      "execution_count": null,
      "outputs": []
    },
    {
      "cell_type": "code",
      "source": [
        "df.isnull().sum()"
      ],
      "metadata": {
        "id": "L1ItQz7MhwGd"
      },
      "execution_count": null,
      "outputs": []
    },
    {
      "cell_type": "code",
      "source": [
        "df[(df['clean_comment'].str.strip() == '')]"
      ],
      "metadata": {
        "id": "Hdv9sJZVhzuV"
      },
      "execution_count": null,
      "outputs": []
    },
    {
      "cell_type": "code",
      "source": [
        "df = df[~(df['clean_comment'].str.strip() == '')]"
      ],
      "metadata": {
        "id": "WPF1WeXkpAIh"
      },
      "execution_count": null,
      "outputs": []
    },
    {
      "cell_type": "code",
      "source": [
        "# Convert the 'clean_comment' column to lowercase\n",
        "df['clean_comment'] = df['clean_comment'].str.lower()\n",
        "\n"
      ],
      "metadata": {
        "id": "sb4QWMmOpD6Z"
      },
      "execution_count": null,
      "outputs": []
    },
    {
      "cell_type": "code",
      "source": [
        "df"
      ],
      "metadata": {
        "id": "jJCv-bT_pIEC"
      },
      "execution_count": null,
      "outputs": []
    },
    {
      "cell_type": "code",
      "source": [
        "df[df['clean_comment'].apply(lambda x:x.startswith(' ') or x.endswith(' '))]"
      ],
      "metadata": {
        "id": "jJ96sPeTpI1q"
      },
      "execution_count": null,
      "outputs": []
    },
    {
      "cell_type": "code",
      "source": [
        "df['clean_comment']=df['clean_comment'].str.strip()"
      ],
      "metadata": {
        "id": "l7qXxQbvp03j"
      },
      "execution_count": null,
      "outputs": []
    },
    {
      "cell_type": "code",
      "source": [
        "df[df['clean_comment'].apply(lambda x: x.startswith(' ') or x.endswith(' '))]"
      ],
      "metadata": {
        "id": "zw7jou0uqTVy"
      },
      "execution_count": null,
      "outputs": []
    },
    {
      "cell_type": "code",
      "source": [
        "df[df['clean_comment'].str.contains('\\n')]"
      ],
      "metadata": {
        "id": "8hsaz-s5qgNc"
      },
      "execution_count": null,
      "outputs": []
    },
    {
      "cell_type": "code",
      "source": [
        "# Remove new line characters from the 'clean_comment' column\n",
        "df['clean_comment'] = df['clean_comment'].str.replace('\\n', ' ', regex=True)"
      ],
      "metadata": {
        "id": "Y6NmTZ6PrzRN"
      },
      "execution_count": null,
      "outputs": []
    },
    {
      "cell_type": "code",
      "source": [
        "df[df['clean_comment'].str.contains('\\n')]"
      ],
      "metadata": {
        "id": "U6XgYHg5r3zu"
      },
      "execution_count": null,
      "outputs": []
    },
    {
      "cell_type": "markdown",
      "source": [
        "# EDA"
      ],
      "metadata": {
        "id": "axndbCyLshYs"
      }
    },
    {
      "cell_type": "code",
      "source": [
        "import seaborn as sns\n",
        "import matplotlib.pyplot as plt\n",
        "\n",
        "sns.countplot(data=df, x='category')\n"
      ],
      "metadata": {
        "id": "cJfk7xhwsg4M"
      },
      "execution_count": null,
      "outputs": []
    },
    {
      "cell_type": "code",
      "source": [],
      "metadata": {
        "id": "edvF_kGKsmGM"
      },
      "execution_count": null,
      "outputs": []
    }
  ]
}